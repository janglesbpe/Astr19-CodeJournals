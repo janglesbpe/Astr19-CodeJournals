{
 "cells": [
  {
   "cell_type": "markdown",
   "id": "6b9f649c-b3b7-4690-9ddc-d73e1a876316",
   "metadata": {},
   "source": [
    "### Code Journal 6\n",
    "Blue Eslami\n",
    "\n",
    "*- Create a Jupyter Notebook where, in separate cells, you define functions that return sin(x) and cos(x).*\n",
    "\n",
    "*- Use Markdown cells to comment your Notebook, and describe what each function does.*\n",
    "\n",
    "*- Create a third Python cell that will tabulate sin(x) and cos(x) using these previously defined functions vs. x, where x is tabulated between 0 and 2 with a thousand entries.*\n",
    "\n",
    "*- Write a fourth Python cell that will use a for loop to print out the first 10 values of x, sin(x), and cos(x) in columns.*"
   ]
  },
  {
   "cell_type": "code",
   "execution_count": 7,
   "id": "329ef8f6-68bc-4839-a85a-724fe2385261",
   "metadata": {},
   "outputs": [],
   "source": [
    "import numpy as np\n",
    "from astropy.table import Table"
   ]
  },
  {
   "cell_type": "code",
   "execution_count": 8,
   "id": "c6ced167-2106-4f72-98fe-1c4002543fe3",
   "metadata": {},
   "outputs": [],
   "source": [
    "def fun1(x):\n",
    "    sin=np.sin(x)\n",
    "    return sin"
   ]
  },
  {
   "cell_type": "markdown",
   "id": "834f58a1-5fa6-49df-b3c3-1ed4979293dd",
   "metadata": {},
   "source": [
    "the original funky goofy ahh wave. Returns the function Sin(x)"
   ]
  },
  {
   "cell_type": "code",
   "execution_count": 9,
   "id": "2a304ddf-b6dc-4946-b225-1d28c086d032",
   "metadata": {},
   "outputs": [],
   "source": [
    "def fun2(x):\n",
    "    cos=np.cos(x)\n",
    "    return cos"
   ]
  },
  {
   "cell_type": "markdown",
   "id": "714f616c-c8c6-40f8-95ae-6f46cc08e489",
   "metadata": {},
   "source": [
    "funky goofy ahh wave. Returns the function Cos(x)"
   ]
  },
  {
   "cell_type": "code",
   "execution_count": 12,
   "id": "6d5f40e0-569e-4ae2-b978-dd999cb387ba",
   "metadata": {},
   "outputs": [
    {
     "name": "stdout",
     "output_type": "stream",
     "text": [
      "         x                     sin                  cos        \n",
      "-------------------- ----------------------- ------------------\n",
      "                 0.0                     0.0                1.0\n",
      "0.006289474781961547    0.006289433316067751 0.9999802213186832\n",
      "0.012578949563923095    0.012578617838741058 0.9999208860571255\n",
      "0.018868424345884642     0.01886730478446709 0.9998219965624732\n",
      " 0.02515789912784619    0.025155245389375847 0.9996835567465339\n",
      " 0.03144737390980774      0.0314421909191206 0.9995055720856215\n",
      "0.037736848691769284     0.03772789267871718   0.99928804962034\n",
      " 0.04402632347373083     0.04401210202238166 0.9990309979553044\n",
      " 0.05031579825569238     0.05029457036336618 0.9987344272588006\n",
      "0.056605273037653926    0.056575049183792345 0.9983983492623831\n",
      " 0.06289474781961547     0.06285329004448194 0.9980227772604111\n",
      " 0.06918422260157703     0.06912904459478454 0.9976077261095226\n",
      " 0.07547369738353857     0.07540206458240159 0.9971532122280464\n",
      "                 ...                     ...                ...\n",
      "   6.207711609796047     -0.0754020645824023 0.9971532122280463\n",
      "   6.214001084578009    -0.06912904459478485 0.9976077261095226\n",
      "    6.22029055935997    -0.06285329004448273 0.9980227772604111\n",
      "   6.226580034141932   -0.056575049183792726  0.998398349262383\n",
      "   6.232869508923893    -0.05029457036336704 0.9987344272588006\n",
      "   6.239158983705855    -0.04401210202238211 0.9990309979553044\n",
      "   6.245448458487816     -0.0377278926787181   0.99928804962034\n",
      "   6.251737933269778   -0.031442190919121114 0.9995055720856215\n",
      "   6.258027408051739    -0.02515524538937684 0.9996835567465338\n",
      "   6.264316882833701   -0.018867304784467676 0.9998219965624732\n",
      "   6.270606357615662   -0.012578617838742121 0.9999208860571255\n",
      "   6.276895832397624   -0.006289433316068405 0.9999802213186832\n",
      "   6.283185307179586 -2.4492935982947064e-16                1.0\n",
      "Length = 1000 rows\n"
     ]
    }
   ],
   "source": [
    "    x=np.linspace(0,2*np.pi, 1000)\n",
    "    y=np.sin(x)\n",
    "    data_table= Table()\n",
    "    data_table[\"x\"]=x\n",
    "    data_table[\"sin\"]=fun1(x)\n",
    "    data_table[\"cos\"]=fun2(x)\n",
    "    print(data_table)"
   ]
  },
  {
   "cell_type": "code",
   "execution_count": 13,
   "id": "80324ce6-fb85-4004-aa73-19b260784425",
   "metadata": {},
   "outputs": [
    {
     "name": "stdout",
     "output_type": "stream",
     "text": [
      "         x                   sin                 cos        \n",
      "-------------------- -------------------- ------------------\n",
      "                 0.0                  0.0                1.0\n",
      "0.006289474781961547 0.006289433316067751 0.9999802213186832\n",
      "0.012578949563923095 0.012578617838741058 0.9999208860571255\n",
      "0.018868424345884642  0.01886730478446709 0.9998219965624732\n",
      " 0.02515789912784619 0.025155245389375847 0.9996835567465339\n",
      " 0.03144737390980774   0.0314421909191206 0.9995055720856215\n",
      "0.037736848691769284  0.03772789267871718   0.99928804962034\n",
      " 0.04402632347373083  0.04401210202238166 0.9990309979553044\n",
      " 0.05031579825569238  0.05029457036336618 0.9987344272588006\n",
      "0.056605273037653926 0.056575049183792345 0.9983983492623831\n"
     ]
    }
   ],
   "source": [
    "print(data_table[0:10])"
   ]
  },
  {
   "cell_type": "code",
   "execution_count": null,
   "id": "2cb87572-8c0c-4bd8-9d8e-60858bda40ff",
   "metadata": {},
   "outputs": [],
   "source": []
  }
 ],
 "metadata": {
  "kernelspec": {
   "display_name": "Python 3 (ipykernel)",
   "language": "python",
   "name": "python3"
  },
  "language_info": {
   "codemirror_mode": {
    "name": "ipython",
    "version": 3
   },
   "file_extension": ".py",
   "mimetype": "text/x-python",
   "name": "python",
   "nbconvert_exporter": "python",
   "pygments_lexer": "ipython3",
   "version": "3.12.2"
  }
 },
 "nbformat": 4,
 "nbformat_minor": 5
}
